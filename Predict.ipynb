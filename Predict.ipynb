{
  "nbformat": 4,
  "nbformat_minor": 0,
  "metadata": {
    "colab": {
      "provenance": []
    },
    "kernelspec": {
      "name": "python3",
      "display_name": "Python 3"
    },
    "accelerator": "GPU"
  },
  "cells": [
    {
      "cell_type": "code",
      "metadata": {
        "id": "ddyQ8HE8zeYj"
      },
      "source": [
        "\n",
        "from google.colab import drive\n",
        "drive.mount('/content/drive')"
      ],
      "execution_count": null,
      "outputs": []
    },
    {
      "cell_type": "code",
      "metadata": {
        "id": "3vj15Vde0Gxs"
      },
      "source": [
        "#importing libraries\n",
        "!pip3 install face_recognition\n",
        "\n",
        "import torch\n",
        "import torchvision\n",
        "from torchvision import transforms\n",
        "from torch.utils.data import DataLoader\n",
        "from torch.utils.data.dataset import Dataset\n",
        "import os\n",
        "import numpy as np\n",
        "import cv2\n",
        "import matplotlib.pyplot as plt\n",
        "import face_recognition"
      ],
      "execution_count": null,
      "outputs": []
    },
    {
      "cell_type": "code",
      "metadata": {
        "id": "C3r-9rMc1DmO"
      },
      "source": [
        "#importing libraries\n",
        "import torch\n",
        "from torch.autograd import Variable\n",
        "import time\n",
        "import os\n",
        "import sys\n",
        "import os\n",
        "from torch import nn\n",
        "from torchvision import models"
      ],
      "execution_count": null,
      "outputs": []
    },
    {
      "cell_type": "code",
      "metadata": {
        "id": "g1G0IoVy2Pc7"
      },
      "source": [
        "from torch import nn\n",
        "from torchvision import models\n",
        "\n",
        "class CustomModel(nn.Module):\n",
        "    def __init__(self, num_classes, latent_dim=2048, lstm_layers=1, hidden_dim=2048, bidirectional=False):\n",
        "        super(CustomModel, self).__init__()\n",
        "        base_model = models.resnext50_32x4d(pretrained=True)\n",
        "        self.feature_extractor = nn.Sequential(*list(base_model.children())[:-2])\n",
        "        self.lstm = nn.LSTM(latent_dim, hidden_dim, lstm_layers, bidirectional)\n",
        "        self.relu = nn.LeakyReLU()\n",
        "        self.dropout = nn.Dropout(0.4)\n",
        "        self.linear_layer = nn.Linear(2048, num_classes)\n",
        "        self.avgpool = nn.AdaptiveAvgPool2d(1)\n",
        "\n",
        "    def forward(self, x):\n",
        "        batch_size, seq_length, c, h, w = x.shape\n",
        "        x = x.view(batch_size * seq_length, c, h, w)\n",
        "        features = self.feature_extractor(x)\n",
        "        x = self.avgpool(features)\n",
        "        x = x.view(batch_size, seq_length, 2048)\n",
        "        lstm_output, _ = self.lstm(x, None)\n",
        "        return features, self.dropout(self.linear_layer(lstm_output[:, -1, :]))"
      ],
      "execution_count": null,
      "outputs": []
    },
    {
      "cell_type": "code",
      "metadata": {
        "id": "avpp16KLze7T"
      },
      "source": [
        "import cv2\n",
        "import numpy as np\n",
        "import torch\n",
        "import torch.nn as nn\n",
        "import torchvision.transforms as transforms\n",
        "import matplotlib.pyplot as plt\n",
        "\n",
        "im_size = 112\n",
        "mean = [0.485, 0.456, 0.406]\n",
        "std = [0.229, 0.224, 0.225]\n",
        "sm = nn.Softmax()\n",
        "inv_normalize = transforms.Normalize(mean=-1 * np.divide(mean, std), std=np.divide([1, 1, 1], std))\n",
        "\n",
        "\n",
        "def im_convert(tensor):\n",
        "    image = tensor.to(\"cpu\").clone().detach()\n",
        "    image = image.squeeze()\n",
        "    image = inv_normalize(image)\n",
        "    image = image.numpy()\n",
        "    image = image.transpose(1, 2, 0)\n",
        "    image = image.clip(0, 1)\n",
        "    cv2.imwrite('./2.png', image * 255)\n",
        "    return image\n",
        "\n",
        "\n",
        "def predict(model, img, path='./'):\n",
        "    fmap, logits = model(img.to('cuda'))\n",
        "    params = list(model.parameters())\n",
        "    weight_softmax = model.linear1.weight.detach().cpu().numpy()\n",
        "    logits = sm(logits)\n",
        "    _, prediction = torch.max(logits, 1)\n",
        "    confidence = logits[:, int(prediction.item())].item() * 100\n",
        "    print('confidence of prediction:', logits[:, int(prediction.item())].item() * 100)\n",
        "    idx = np.argmax(logits.detach().cpu().numpy())\n",
        "    bz, nc, h, w = fmap.shape\n",
        "    out = np.dot(fmap[-1].detach().cpu().numpy().reshape((nc, h * w)).T, weight_softmax[idx, :].T)\n",
        "    predict = out.reshape(h, w)\n",
        "    predict = predict - np.min(predict)\n",
        "    predict_img = predict / np.max(predict)\n",
        "    predict_img = np.uint8(255 * predict_img)\n",
        "    out = cv2.resize(predict_img, (im_size, im_size))\n",
        "    heatmap = cv2.applyColorMap(out, cv2.COLORMAP_JET)\n",
        "    img = im_convert(img[:, -1, :, :, :])\n",
        "    result = heatmap * 0.5 + img * 0.8 * 255\n",
        "    cv2.imwrite('/content/1.png', result)\n",
        "    result1 = heatmap * 0.5 / 255 + img * 0.8\n",
        "    r, g, b = cv2.split(result1)\n",
        "    result1 = cv2.merge((r, g, b))\n",
        "    plt.imshow(result1)\n",
        "    plt.show()\n",
        "    return [int(prediction.item()), confidence]\n"
      ],
      "execution_count": null,
      "outputs": []
    },
    {
      "cell_type": "code",
      "metadata": {
        "id": "asSbpP8fzlFj"
      },
      "source": [
        "#!pip3 install face_recognition\n",
        "import torch\n",
        "import torchvision\n",
        "from torchvision import transforms\n",
        "from torch.utils.data import DataLoader\n",
        "from torch.utils.data.dataset import Dataset\n",
        "import os\n",
        "import numpy as np\n",
        "import cv2\n",
        "import matplotlib.pyplot as plt\n",
        "import face_recognition\n",
        "\n",
        "class ValidationDataset(Dataset):\n",
        "    def __init__(self, video_names, sequence_length=60, transform=None):\n",
        "        self.video_names = video_names\n",
        "        self.transform = transform\n",
        "        self.count = sequence_length\n",
        "\n",
        "    def __len__(self):\n",
        "        return len(self.video_names)\n",
        "\n",
        "    def __getitem__(self, idx):\n",
        "        video_path = self.video_names[idx]\n",
        "        frames = []\n",
        "        a = int(100 / self.count)\n",
        "        first_frame = np.random.randint(0, a)\n",
        "        for i, frame in enumerate(self.frame_extract(video_path)):\n",
        "            faces = face_recognition.face_locations(frame)\n",
        "            try:\n",
        "                top, right, bottom, left = faces[0]\n",
        "                frame = frame[top:bottom, left:right, :]\n",
        "            except:\n",
        "                pass\n",
        "            frames.append(self.transform(frame))\n",
        "            if len(frames) == self.count:\n",
        "                break\n",
        "        frames = torch.stack(frames)\n",
        "        frames = frames[:self.count]\n",
        "        return frames.unsqueeze(0)\n",
        "\n",
        "    def frame_extract(self, path):\n",
        "        vidObj = cv2.VideoCapture(path)\n",
        "        success = 1\n",
        "        while success:\n",
        "            success, image = vidObj.read()\n",
        "            if success:\n",
        "                yield image\n",
        "\n",
        "def im_plot(tensor):\n",
        "    image = tensor.cpu().numpy().transpose(1, 2, 0)\n",
        "    b, g, r = cv2.split(image)\n",
        "    image = cv2.merge((r, g, b))\n",
        "    image = image * [0.22803, 0.22145, 0.216989] + [0.43216, 0.394666, 0.37645]\n",
        "    image = image * 255.0\n",
        "    plt.imshow(image.astype(int))\n",
        "    plt.show()\n"
      ],
      "execution_count": null,
      "outputs": []
    },
    {
      "cell_type": "code",
      "metadata": {
        "id": "J8YkC-vwzrkE",
        "colab": {
          "base_uri": "https://localhost:8080/",
          "height": 551
        },
        "outputId": "305baaee-0a83-479f-ded0-4fdc9dd8fa0d"
      },
      "source": [
        "# Prediction Code\n",
        "im_size = 112\n",
        "mean = [0.485, 0.456, 0.406]\n",
        "std = [0.229, 0.224, 0.225]\n",
        "\n",
        "train_transforms = transforms.Compose([\n",
        "    transforms.ToPILImage(),\n",
        "    transforms.Resize((im_size, im_size)),\n",
        "    transforms.ToTensor(),\n",
        "    transforms.Normalize(mean, std)\n",
        "])\n",
        "\n",
        "# Example video path\n",
        "path_to_videos = [\"/content/drive/MyDrive/kaggle/dataset/zfobicuigx.mp4\"]\n",
        "\n",
        "video_dataset = ValidationDataset(path_to_videos, sequence_length=20, transform=train_transforms)\n",
        "model = Model(2).cuda()\n",
        "path_to_model = '/content/drive/MyDrive/kaggle/model_84_acc_10_frames_final_data.pt'\n",
        "model.load_state_dict(torch.load(path_to_model))\n",
        "model.eval()\n",
        "\n",
        "for i in range(0, len(path_to_videos)):\n",
        "    print(path_to_videos[i])\n",
        "    prediction = predict(model, video_dataset[i], './')\n",
        "    if prediction[0] == 1:\n",
        "        print(\"REAL\")\n",
        "    else:\n",
        "        print(\"FAKE\")\n"
      ],
      "execution_count": null,
      "outputs": [
        {
          "output_type": "stream",
          "name": "stdout",
          "text": [
            "/content/drive/MyDrive/kaggle/dataset/zfobicuigx.mp4\n"
          ]
        },
        {
          "output_type": "stream",
          "name": "stderr",
          "text": [
            "/usr/local/lib/python3.10/dist-packages/torch/nn/modules/module.py:1518: UserWarning: Implicit dimension choice for softmax has been deprecated. Change the call to include dim=X as an argument.\n",
            "  return self._call_impl(*args, **kwargs)\n",
            "WARNING:matplotlib.image:Clipping input data to the valid range for imshow with RGB data ([0..1] for floats or [0..255] for integers).\n"
          ]
        },
        {
          "output_type": "stream",
          "name": "stdout",
          "text": [
            "confidence of prediction: 96.35831713676453\n"
          ]
        },
        {
          "output_type": "display_data",
          "data": {
            "text/plain": [
              "<Figure size 640x480 with 1 Axes>"
            ],
            "image/png": "[encoded data removed]"
          },
          "metadata": {}
        },
        {
          "output_type": "stream",
          "name": "stdout",
          "text": [
            "REAL\n"
          ]
        }
      ]
    },
    {
      "cell_type": "code",
      "source": [
        "im_size = 112\n",
        "mean = [0.485, 0.456, 0.406]\n",
        "std = [0.229, 0.224, 0.225]\n",
        "\n",
        "transforms_pipeline = transforms.Compose([\n",
        "    transforms.ToPILImage(),\n",
        "    transforms.Resize((im_size, im_size)),\n",
        "    transforms.ToTensor(),\n",
        "    transforms.Normalize(mean, std)\n",
        "])\n",
        "\n",
        "video_paths = [\"/content/drive/MyDrive/kaggle/dataset/face_cropped/aassnaulhq.mp4\"]\n",
        "\n",
        "video_dataset = validation_dataset(video_paths, sequence_length=20, transform=transforms_pipeline)\n",
        "\n",
        "model = Model(2).cuda()\n",
        "model_path = '/content/drive/MyDrive/kaggle/model_84_acc_10_frames_final_data.pt'\n",
        "model.load_state_dict(torch.load(model_path))\n",
        "model.eval()\n",
        "\n",
        "for video_path in video_paths:\n",
        "    print(video_path)\n",
        "    prediction = predict(model, video_dataset[0], './')\n",
        "    print(\"REAL\" if prediction[0] == 1 else \"FAKE\")"
      ],
      "metadata": {
        "id": "yIwu1QiBuGiE"
      },
      "execution_count": null,
      "outputs": []
    },
    {
      "cell_type": "code",
      "source": [],
      "metadata": {
        "id": "GlObOX6ouLsu"
      },
      "execution_count": null,
      "outputs": []
    }
  ]
}